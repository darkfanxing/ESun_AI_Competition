{
 "cells": [
  {
   "cell_type": "code",
   "execution_count": 1,
   "source": [
    "import os\n",
    "import numpy as np\n",
    "import pandas as pd\n",
    "\n",
    "import matplotlib.pyplot as plt\n",
    "%matplotlib inline\n",
    "\n",
    "import seaborn as sns\n",
    "plt.style.use(\"ggplot\") \n",
    "\n",
    "from utils import get_data_and_label_encoder, train_and_evaluate_deepfm_model, check_and_use_gpus\n",
    "\n",
    "os.chdir('../')"
   ],
   "outputs": [
    {
     "output_type": "stream",
     "name": "stderr",
     "text": [
      "2022-01-14 22:23:05.125337: I tensorflow/stream_executor/platform/default/dso_loader.cc:49] Successfully opened dynamic library libcudart.so.11.0\n"
     ]
    }
   ],
   "metadata": {}
  },
  {
   "cell_type": "code",
   "execution_count": 2,
   "source": [
    "sparse_features = [\"shop_tag\", \"masts\", \"poscd\", \"educd\", \"trdtp\", \"naty\", \"slam\", \"gender_code\", \"age\", \"txn_cnt\"]\n",
    "dense_features = [\"dt\"]\n",
    "target_name = [\"txn_amt\"]\n",
    "data, label_encoder = get_data_and_label_encoder(sparse_features + dense_features + target_name + [\"chid\"])"
   ],
   "outputs": [
    {
     "output_type": "stream",
     "name": "stderr",
     "text": [
      "/home/cae-lab/.local/share/virtualenvs/Esun_AI_True-fRyowkva/lib/python3.7/site-packages/pandas/util/_decorators.py:311: SettingWithCopyWarning: \n",
      "A value is trying to be set on a copy of a slice from a DataFrame\n",
      "\n",
      "See the caveats in the documentation: https://pandas.pydata.org/pandas-docs/stable/user_guide/indexing.html#returning-a-view-versus-a-copy\n",
      "  return func(*args, **kwargs)\n",
      "/home/cae-lab/Homework/Esun AI True/src/utils/get_data_and_label_encoder.py:24: SettingWithCopyWarning: \n",
      "A value is trying to be set on a copy of a slice from a DataFrame.\n",
      "Try using .loc[row_indexer,col_indexer] = value instead\n",
      "\n",
      "See the caveats in the documentation: https://pandas.pydata.org/pandas-docs/stable/user_guide/indexing.html#returning-a-view-versus-a-copy\n",
      "  data[\"shop_tag\"] = data[\"shop_tag\"].replace(\"other\", 49)\n",
      "/home/cae-lab/Homework/Esun AI True/src/utils/get_data_and_label_encoder.py:32: SettingWithCopyWarning: \n",
      "A value is trying to be set on a copy of a slice from a DataFrame.\n",
      "Try using .loc[row_indexer,col_indexer] = value instead\n",
      "\n",
      "See the caveats in the documentation: https://pandas.pydata.org/pandas-docs/stable/user_guide/indexing.html#returning-a-view-versus-a-copy\n",
      "  data[interger_column_name] = data[interger_column_name].apply(pd.to_numeric, errors=\"coerce\")\n",
      "/home/cae-lab/Homework/Esun AI True/src/utils/get_data_and_label_encoder.py:38: SettingWithCopyWarning: \n",
      "A value is trying to be set on a copy of a slice from a DataFrame.\n",
      "Try using .loc[row_indexer,col_indexer] = value instead\n",
      "\n",
      "See the caveats in the documentation: https://pandas.pydata.org/pandas-docs/stable/user_guide/indexing.html#returning-a-view-versus-a-copy\n",
      "  data[\"txn_amt\"] = data[\"txn_amt\"].apply(np.log)\n",
      "/home/cae-lab/.local/share/virtualenvs/Esun_AI_True-fRyowkva/lib/python3.7/site-packages/IPython/core/interactiveshell.py:3457: DtypeWarning: Columns (10,11,13,16,34,36,38,39,50) have mixed types.Specify dtype option on import or set low_memory=False.\n",
      "  exec(code_obj, self.user_global_ns, self.user_ns)\n",
      "/home/cae-lab/.local/share/virtualenvs/Esun_AI_True-fRyowkva/lib/python3.7/site-packages/IPython/core/interactiveshell.py:3457: DtypeWarning: Columns (10,39,41,48) have mixed types.Specify dtype option on import or set low_memory=False.\n",
      "  exec(code_obj, self.user_global_ns, self.user_ns)\n"
     ]
    }
   ],
   "metadata": {}
  },
  {
   "cell_type": "code",
   "execution_count": 3,
   "source": [
    "data[\"log_txn_amt\"] = np.log2(data[\"txn_amt\"])\n",
    "\n",
    "plt.subplot(1, 2, 1)\n",
    "sns.boxplot(data[\"txn_amt\"], orient=\"h\", color=\"skyblue\")\n",
    "plt.xlabel(\"txn_amt\")\n",
    "plt.legend()\n",
    "\n",
    "plt.subplot(1, 2, 2)\n",
    "sns.boxplot(data[\"log_txn_amt\"], orient=\"h\", color=\"skyblue\")\n",
    "plt.xlabel(\"log_txn_amt\")\n",
    "plt.legend()\n",
    "plt.show()"
   ],
   "outputs": [
    {
     "output_type": "stream",
     "name": "stderr",
     "text": [
      "/home/cae-lab/.local/share/virtualenvs/Esun_AI_True-fRyowkva/lib/python3.7/site-packages/seaborn/_decorators.py:43: FutureWarning: Pass the following variable as a keyword arg: x. From version 0.12, the only valid positional argument will be `data`, and passing other arguments without an explicit keyword will result in an error or misinterpretation.\n",
      "  FutureWarning\n",
      "No artists with labels found to put in legend.  Note that artists whose label start with an underscore are ignored when legend() is called with no argument.\n",
      "/home/cae-lab/.local/share/virtualenvs/Esun_AI_True-fRyowkva/lib/python3.7/site-packages/seaborn/_decorators.py:43: FutureWarning: Pass the following variable as a keyword arg: x. From version 0.12, the only valid positional argument will be `data`, and passing other arguments without an explicit keyword will result in an error or misinterpretation.\n",
      "  FutureWarning\n",
      "No artists with labels found to put in legend.  Note that artists whose label start with an underscore are ignored when legend() is called with no argument.\n"
     ]
    },
    {
     "output_type": "display_data",
     "data": {
      "image/png": "[encoded data removed]",
      "text/plain": [
       "<Figure size 432x288 with 2 Axes>"
      ]
     },
     "metadata": {}
    }
   ],
   "metadata": {}
  },
  {
   "cell_type": "code",
   "execution_count": 4,
   "source": [
    "data.head()"
   ],
   "outputs": [
    {
     "output_type": "execute_result",
     "data": {
      "text/html": [
       "<div>\n",
       "<style scoped>\n",
       "    .dataframe tbody tr th:only-of-type {\n",
       "        vertical-align: middle;\n",
       "    }\n",
       "\n",
       "    .dataframe tbody tr th {\n",
       "        vertical-align: top;\n",
       "    }\n",
       "\n",
       "    .dataframe thead th {\n",
       "        text-align: right;\n",
       "    }\n",
       "</style>\n",
       "<table border=\"1\" class=\"dataframe\">\n",
       "  <thead>\n",
       "    <tr style=\"text-align: right;\">\n",
       "      <th></th>\n",
       "      <th>shop_tag</th>\n",
       "      <th>masts</th>\n",
       "      <th>poscd</th>\n",
       "      <th>educd</th>\n",
       "      <th>trdtp</th>\n",
       "      <th>naty</th>\n",
       "      <th>slam</th>\n",
       "      <th>gender_code</th>\n",
       "      <th>age</th>\n",
       "      <th>txn_cnt</th>\n",
       "      <th>dt</th>\n",
       "      <th>txn_amt</th>\n",
       "      <th>chid</th>\n",
       "      <th>log_txn_amt</th>\n",
       "    </tr>\n",
       "  </thead>\n",
       "  <tbody>\n",
       "    <tr>\n",
       "      <th>0</th>\n",
       "      <td>39</td>\n",
       "      <td>1.0</td>\n",
       "      <td>99.0</td>\n",
       "      <td>4.0</td>\n",
       "      <td>5.0</td>\n",
       "      <td>1.0</td>\n",
       "      <td>95982.822967</td>\n",
       "      <td>1.0</td>\n",
       "      <td>4.0</td>\n",
       "      <td>3</td>\n",
       "      <td>1</td>\n",
       "      <td>8.266670</td>\n",
       "      <td>10321418</td>\n",
       "      <td>3.047306</td>\n",
       "    </tr>\n",
       "    <tr>\n",
       "      <th>1</th>\n",
       "      <td>6</td>\n",
       "      <td>2.0</td>\n",
       "      <td>2.0</td>\n",
       "      <td>2.0</td>\n",
       "      <td>15.0</td>\n",
       "      <td>1.0</td>\n",
       "      <td>130702.351368</td>\n",
       "      <td>1.0</td>\n",
       "      <td>3.0</td>\n",
       "      <td>2</td>\n",
       "      <td>1</td>\n",
       "      <td>9.270170</td>\n",
       "      <td>10414574</td>\n",
       "      <td>3.212596</td>\n",
       "    </tr>\n",
       "    <tr>\n",
       "      <th>2</th>\n",
       "      <td>42</td>\n",
       "      <td>1.0</td>\n",
       "      <td>3.0</td>\n",
       "      <td>3.0</td>\n",
       "      <td>11.0</td>\n",
       "      <td>1.0</td>\n",
       "      <td>112010.611717</td>\n",
       "      <td>0.0</td>\n",
       "      <td>4.0</td>\n",
       "      <td>2</td>\n",
       "      <td>1</td>\n",
       "      <td>10.065932</td>\n",
       "      <td>10134567</td>\n",
       "      <td>3.331409</td>\n",
       "    </tr>\n",
       "    <tr>\n",
       "      <th>3</th>\n",
       "      <td>42</td>\n",
       "      <td>2.0</td>\n",
       "      <td>2.0</td>\n",
       "      <td>3.0</td>\n",
       "      <td>11.0</td>\n",
       "      <td>1.0</td>\n",
       "      <td>59701.507360</td>\n",
       "      <td>0.0</td>\n",
       "      <td>3.0</td>\n",
       "      <td>9</td>\n",
       "      <td>1</td>\n",
       "      <td>9.784229</td>\n",
       "      <td>10001003</td>\n",
       "      <td>3.290458</td>\n",
       "    </tr>\n",
       "    <tr>\n",
       "      <th>5</th>\n",
       "      <td>3</td>\n",
       "      <td>2.0</td>\n",
       "      <td>1.0</td>\n",
       "      <td>4.0</td>\n",
       "      <td>2.0</td>\n",
       "      <td>1.0</td>\n",
       "      <td>95982.822967</td>\n",
       "      <td>0.0</td>\n",
       "      <td>5.0</td>\n",
       "      <td>1</td>\n",
       "      <td>1</td>\n",
       "      <td>7.782091</td>\n",
       "      <td>10256467</td>\n",
       "      <td>2.960158</td>\n",
       "    </tr>\n",
       "  </tbody>\n",
       "</table>\n",
       "</div>"
      ],
      "text/plain": [
       "   shop_tag  masts  poscd  educd  trdtp  naty           slam  gender_code  \\\n",
       "0        39    1.0   99.0    4.0    5.0   1.0   95982.822967          1.0   \n",
       "1         6    2.0    2.0    2.0   15.0   1.0  130702.351368          1.0   \n",
       "2        42    1.0    3.0    3.0   11.0   1.0  112010.611717          0.0   \n",
       "3        42    2.0    2.0    3.0   11.0   1.0   59701.507360          0.0   \n",
       "5         3    2.0    1.0    4.0    2.0   1.0   95982.822967          0.0   \n",
       "\n",
       "   age  txn_cnt  dt    txn_amt      chid  log_txn_amt  \n",
       "0  4.0        3   1   8.266670  10321418     3.047306  \n",
       "1  3.0        2   1   9.270170  10414574     3.212596  \n",
       "2  4.0        2   1  10.065932  10134567     3.331409  \n",
       "3  3.0        9   1   9.784229  10001003     3.290458  \n",
       "5  5.0        1   1   7.782091  10256467     2.960158  "
      ]
     },
     "metadata": {},
     "execution_count": 4
    }
   ],
   "metadata": {}
  },
  {
   "cell_type": "code",
   "execution_count": 5,
   "source": [
    "shop_tag = np.sort(data[\"shop_tag\"].unique())\n",
    "txn_amt_with_tag_mean = []\n",
    "txn_amt_with_tag_sum = []\n",
    "for tag in shop_tag:\n",
    "    txn_amt_with_tag_mean.append(data[data[\"shop_tag\"] == tag][\"txn_cnt\"].mean())\n",
    "    txn_amt_with_tag_sum.append(data[data[\"shop_tag\"] == tag][\"txn_cnt\"].sum())"
   ],
   "outputs": [],
   "metadata": {}
  },
  {
   "cell_type": "code",
   "execution_count": 13,
   "source": [
    "plot_dataframe = pd.DataFrame({\n",
    "    \"x\": shop_tag,\n",
    "    \"y\": txn_amt_with_tag_mean\n",
    "})\n",
    "\n",
    "plot = sns.catplot(data=plot_dataframe, kind=\"bar\", x=\"x\", y=\"y\")\n",
    "plot.fig.set_figwidth(10)\n",
    "plt.xlabel(\"shop tag\")\n",
    "plt.ylabel(\"mean txn_amt\")\n",
    "plt.legend()\n",
    "plt.show()"
   ],
   "outputs": [
    {
     "output_type": "stream",
     "name": "stderr",
     "text": [
      "No artists with labels found to put in legend.  Note that artists whose label start with an underscore are ignored when legend() is called with no argument.\n"
     ]
    },
    {
     "output_type": "display_data",
     "data": {
      "image/png": "[encoded data removed]",
      "text/plain": [
       "<Figure size 720x360 with 1 Axes>"
      ]
     },
     "metadata": {}
    }
   ],
   "metadata": {}
  },
  {
   "cell_type": "code",
   "execution_count": 15,
   "source": [
    "plot_dataframe = pd.DataFrame({\n",
    "    \"x\": shop_tag,\n",
    "    \"y\": txn_amt_with_tag_sum\n",
    "})\n",
    "\n",
    "plot = sns.catplot(data=plot_dataframe, kind=\"bar\", x=\"x\", y=\"y\")\n",
    "plot.fig.set_figwidth(10)\n",
    "plt.xlabel(\"shop tag\")\n",
    "plt.ylabel(\"sum txn_amt\")\n",
    "plt.legend()\n",
    "plt.show()"
   ],
   "outputs": [
    {
     "output_type": "stream",
     "name": "stderr",
     "text": [
      "No artists with labels found to put in legend.  Note that artists whose label start with an underscore are ignored when legend() is called with no argument.\n"
     ]
    },
    {
     "output_type": "display_data",
     "data": {
      "image/png": "[encoded data removed]",
      "text/plain": [
       "<Figure size 720x360 with 1 Axes>"
      ]
     },
     "metadata": {}
    }
   ],
   "metadata": {}
  },
  {
   "cell_type": "code",
   "execution_count": 16,
   "source": [
    "gender_code = np.sort(data[\"gender_code\"].unique())\n",
    "txn_amt_with_gender_mean = []\n",
    "txn_amt_with_gender_sum = []\n",
    "for gender in gender_code:\n",
    "    txn_amt_with_tag_mean.append(data[data[\"gender_code\"] == gender][\"txn_cnt\"].mean())\n",
    "    txn_amt_with_tag_sum.append(data[data[\"gender_code\"] == gender][\"txn_cnt\"].sum())"
   ],
   "outputs": [],
   "metadata": {}
  }
 ],
 "metadata": {
  "orig_nbformat": 4,
  "language_info": {
   "name": "python",
   "version": "3.7.5",
   "mimetype": "text/x-python",
   "codemirror_mode": {
    "name": "ipython",
    "version": 3
   },
   "pygments_lexer": "ipython3",
   "nbconvert_exporter": "python",
   "file_extension": ".py"
  },
  "kernelspec": {
   "name": "python3",
   "display_name": "Python 3.7.5 64-bit ('Esun_AI_True-fRyowkva': venv)"
  },
  "interpreter": {
   "hash": "e955b7a17180ef76cb58d6487bb904a8d483f60c3c9773454d520217b47a8772"
  }
 },
 "nbformat": 4,
 "nbformat_minor": 2
}